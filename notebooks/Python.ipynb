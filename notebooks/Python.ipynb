{
 "cells": [
  {
   "cell_type": "code",
   "execution_count": 3,
   "metadata": {},
   "outputs": [],
   "source": [
    "def ATM(money):\n",
    "    l = [50, 20, 10, 5, 2, 1]\n",
    "    answer = [0, 0, 0, 0, 0, 0]\n",
    "    for i in range(len(l)):\n",
    "        answer[i] = money // l[i]\n",
    "        money = money % l[i]\n",
    "    return sum(answer)"
   ]
  },
  {
   "cell_type": "code",
   "execution_count": 7,
   "metadata": {},
   "outputs": [
    {
     "data": {
      "text/plain": [
       "4"
      ]
     },
     "execution_count": 7,
     "metadata": {},
     "output_type": "execute_result"
    }
   ],
   "source": [
    "ATM(121)"
   ]
  },
  {
   "cell_type": "code",
   "execution_count": 8,
   "metadata": {},
   "outputs": [],
   "source": [
    "import sympy as sp\n"
   ]
  },
  {
   "cell_type": "code",
   "execution_count": 13,
   "metadata": {},
   "outputs": [
    {
     "name": "stdout",
     "output_type": "stream",
     "text": [
      "x*(5*x + 2)\n"
     ]
    }
   ],
   "source": [
    "x = sp.symbols('x')\n",
    "polynomial = \"3*x^2 + 2*x + 2*x^2\"\n",
    "\n",
    "reduced_polynomial = sp.simplify(polynomial)\n",
    "print(reduced_polynomial)"
   ]
  },
  {
   "cell_type": "code",
   "execution_count": 11,
   "metadata": {},
   "outputs": [
    {
     "name": "stdout",
     "output_type": "stream",
     "text": [
      "x*(5*x + 2)\n"
     ]
    }
   ],
   "source": [
    "factored_polynomial = sp.factor(polynomial)\n",
    "print(factored_polynomial)"
   ]
  },
  {
   "cell_type": "code",
   "execution_count": 64,
   "metadata": {},
   "outputs": [],
   "source": [
    "def rut_gon_da_thuc(da_thuc):\n",
    "    # Tách biệt các hạng tử\n",
    "    hts = da_thuc.split(\" + \")\n",
    "    print(hts)\n",
    "    # Tạo một từ điển để lưu trữ số lượng và hạng tử\n",
    "    thong_ke = {}\n",
    "    \n",
    "    for ht in hts:\n",
    "        print(ht)\n",
    "        if '*' not in ht:\n",
    "            he_so, bac = ht, 0\n",
    "        else:\n",
    "            he_so, bac = ht.split(\"*x\")\n",
    "            print(he_so, bac)\n",
    "            if \"^\" in bac:\n",
    "                bac = int(bac.split(\"^\")[1])\n",
    "            else:\n",
    "                bac = 1\n",
    "        # Cập nhật số lượng và hạng tử trong từ điển\n",
    "        if bac in thong_ke:\n",
    "            thong_ke[bac] += int(he_so)\n",
    "        else:\n",
    "            thong_ke[bac] = int(he_so)\n",
    "    \n",
    "    print(thong_ke)\n",
    "    # Tạo đa thức đã rút gọn\n",
    "    da_thuc_rut_gon = \"\"\n",
    "    for bac, he_so in sorted(thong_ke.items(), reverse=True):\n",
    "        if he_so != 0:\n",
    "            if bac >=2 :\n",
    "                da_thuc_rut_gon += f\"{he_so}*x^{bac} + \"\n",
    "            elif bac == 1:\n",
    "                da_thuc_rut_gon += f\"{he_so}*x + \"\n",
    "            else:\n",
    "                da_thuc_rut_gon += str(he_so)\n",
    "    \n",
    "    # Loại bỏ dấu + cuối cùng\n",
    "    da_thuc_rut_gon = da_thuc_rut_gon.rstrip(\" + \")\n",
    "    \n",
    "    return da_thuc_rut_gon"
   ]
  },
  {
   "cell_type": "code",
   "execution_count": 65,
   "metadata": {},
   "outputs": [
    {
     "name": "stdout",
     "output_type": "stream",
     "text": [
      "['3*x^5', '2*x', '2*x^5', '4*x']\n",
      "3*x^5\n",
      "3 ^5\n",
      "2*x\n",
      "2 \n",
      "2*x^5\n",
      "2 ^5\n",
      "4*x\n",
      "4 \n",
      "{5: 5, 1: 6}\n"
     ]
    },
    {
     "data": {
      "text/plain": [
       "'5*x^5 + 6*x'"
      ]
     },
     "execution_count": 65,
     "metadata": {},
     "output_type": "execute_result"
    }
   ],
   "source": [
    "rut_gon_da_thuc(\"3*x^5 + 2*x + 2*x^5 + 4*x\")"
   ]
  },
  {
   "cell_type": "code",
   "execution_count": 59,
   "metadata": {},
   "outputs": [
    {
     "name": "stdout",
     "output_type": "stream",
     "text": [
      "['2*x', '2*x^2', '5*x', '3']\n",
      "2*x\n",
      "2 \n",
      "2*x^2\n",
      "2 ^2\n",
      "5*x\n",
      "5 \n",
      "3\n",
      "{1: 7, 2: 2, 0: 3}\n"
     ]
    },
    {
     "data": {
      "text/plain": [
       "'2x^2 + 7x + 3'"
      ]
     },
     "execution_count": 59,
     "metadata": {},
     "output_type": "execute_result"
    }
   ],
   "source": [
    "rut_gon_da_thuc(\"2*x + 2*x^2 + 5*x + 3\")"
   ]
  },
  {
   "cell_type": "code",
   "execution_count": 66,
   "metadata": {},
   "outputs": [
    {
     "name": "stdout",
     "output_type": "stream",
     "text": [
      "['3*x^5', '2*x', '2*x^5', '4*x']\n",
      "3*x^5\n",
      "3 ^5\n",
      "2*x\n",
      "2 \n",
      "2*x^5\n",
      "2 ^5\n",
      "4*x\n",
      "4 \n",
      "{5: 5, 1: 6}\n"
     ]
    },
    {
     "data": {
      "text/plain": [
       "'5*x^5 + 6*x'"
      ]
     },
     "execution_count": 66,
     "metadata": {},
     "output_type": "execute_result"
    }
   ],
   "source": [
    "rut_gon_da_thuc(\"3*x^5 + 2*x + 2*x^5 + 4*x\")"
   ]
  },
  {
   "cell_type": "code",
   "execution_count": 27,
   "metadata": {},
   "outputs": [],
   "source": [
    "he_so, bac = hts[0].split('*x')"
   ]
  },
  {
   "cell_type": "code",
   "execution_count": 34,
   "metadata": {},
   "outputs": [],
   "source": [
    "ht = \"3*x**2\""
   ]
  },
  {
   "cell_type": "code",
   "execution_count": 79,
   "metadata": {},
   "outputs": [],
   "source": [
    "def findUCLN(a, b):\n",
    "    while b != 0:\n",
    "        temp = b\n",
    "        b = a % b\n",
    "        a = temp\n",
    "        # a, b = b, a % b\n",
    "    return a"
   ]
  },
  {
   "cell_type": "code",
   "execution_count": 80,
   "metadata": {},
   "outputs": [
    {
     "data": {
      "text/plain": [
       "10"
      ]
     },
     "execution_count": 80,
     "metadata": {},
     "output_type": "execute_result"
    }
   ],
   "source": [
    "findUCLN(50,20)"
   ]
  },
  {
   "cell_type": "code",
   "execution_count": 81,
   "metadata": {},
   "outputs": [
    {
     "data": {
      "text/plain": [
       "20"
      ]
     },
     "execution_count": 81,
     "metadata": {},
     "output_type": "execute_result"
    }
   ],
   "source": [
    "findUCLN(60, 520)"
   ]
  },
  {
   "cell_type": "code",
   "execution_count": 1,
   "metadata": {},
   "outputs": [
    {
     "name": "stderr",
     "output_type": "stream",
     "text": [
      "f:\\Vendors\\Anaconda\\lib\\site-packages\\seaborn\\_oldcore.py:1498: FutureWarning: is_categorical_dtype is deprecated and will be removed in a future version. Use isinstance(dtype, CategoricalDtype) instead\n",
      "  if pd.api.types.is_categorical_dtype(vector):\n",
      "f:\\Vendors\\Anaconda\\lib\\site-packages\\seaborn\\_oldcore.py:1119: FutureWarning: use_inf_as_na option is deprecated and will be removed in a future version. Convert inf values to NaN before operating instead.\n",
      "  with pd.option_context('mode.use_inf_as_na', True):\n"
     ]
    },
    {
     "data": {
      "text/plain": [
       "<Axes: ylabel='Count'>"
      ]
     },
     "execution_count": 1,
     "metadata": {},
     "output_type": "execute_result"
    },
    {
     "data": {
      "image/png": "[encoded data removed]",
      "text/plain": [
       "<Figure size 640x480 with 1 Axes>"
      ]
     },
     "metadata": {},
     "output_type": "display_data"
    }
   ],
   "source": [
    "import numpy as np\n",
    "import seaborn as sns \n",
    "np.random.seed(42)\n",
    "x = np.random.uniform(size=200)\n",
    "sns.histplot(x, bins=10)"
   ]
  },
  {
   "cell_type": "code",
   "execution_count": 3,
   "metadata": {},
   "outputs": [
    {
     "name": "stdout",
     "output_type": "stream",
     "text": [
      "10 [22 24 20 24 11 19 20 18 18 24]\n",
      "11 [0.00552212 0.1036586  0.20179508 0.29993156 0.39806804 0.49620453\n",
      " 0.59434101 0.69247749 0.79061397 0.88875045 0.98688694]\n"
     ]
    }
   ],
   "source": [
    "counts, bin_labels = np.histogram(x, bins=10)\n",
    "print(len(counts), counts)\n",
    "print(len(bin_labels), bin_labels)"
   ]
  },
  {
   "cell_type": "code",
   "execution_count": 5,
   "metadata": {},
   "outputs": [
    {
     "data": {
      "text/plain": [
       "22"
      ]
     },
     "execution_count": 5,
     "metadata": {},
     "output_type": "execute_result"
    }
   ],
   "source": [
    "len(x[(x>=bin_labels[0]) & (x<bin_labels[1])])"
   ]
  },
  {
   "cell_type": "code",
   "execution_count": 7,
   "metadata": {},
   "outputs": [
    {
     "name": "stderr",
     "output_type": "stream",
     "text": [
      "f:\\Vendors\\Anaconda\\lib\\site-packages\\seaborn\\_oldcore.py:1498: FutureWarning: is_categorical_dtype is deprecated and will be removed in a future version. Use isinstance(dtype, CategoricalDtype) instead\n",
      "  if pd.api.types.is_categorical_dtype(vector):\n",
      "f:\\Vendors\\Anaconda\\lib\\site-packages\\seaborn\\_oldcore.py:1119: FutureWarning: use_inf_as_na option is deprecated and will be removed in a future version. Convert inf values to NaN before operating instead.\n",
      "  with pd.option_context('mode.use_inf_as_na', True):\n"
     ]
    },
    {
     "data": {
      "image/png": "[encoded data removed]",
      "text/plain": [
       "<Figure size 640x480 with 1 Axes>"
      ]
     },
     "metadata": {},
     "output_type": "display_data"
    }
   ],
   "source": [
    "import matplotlib.pyplot as plt \n",
    "\n",
    "ax = sns.histplot(x, bins=10)\n",
    "bin_heights = [p.get_height() if p.get_height() > 0 else 0.1 for p in ax.patches]\n",
    "# Hiển thị giá trị count từng bin\n",
    "for i in range(len(bin_heights)):\n",
    "    plt.text(ax.patches[i].get_x() + ax.patches[i].get_width() / 2,\n",
    "            bin_heights[i],\n",
    "            str(int(bin_heights[i])),\n",
    "            fontsize=14,\n",
    "            ha='center',\n",
    "            va='bottom')\n",
    "mids = [rect.get_x() + rect.get_width() / 2 for rect in ax.patches]\n",
    "labels = [(round(i,2),round(j,2)) for i,j in zip(bin_labels[:-1], bin_labels[1:])]\n",
    "ax.set_xticks(mids, labels=labels, fontsize=14, rotation=90)\n"
   ]
  },
  {
   "cell_type": "code",
   "execution_count": 32,
   "metadata": {},
   "outputs": [],
   "source": [
    "import pandas as pd"
   ]
  },
  {
   "cell_type": "code",
   "execution_count": 33,
   "metadata": {},
   "outputs": [],
   "source": [
    "df = pd.read_csv(\"F:\\Workspace/3. F88\\location_analysis\\inputs\\shop_info.csv\")"
   ]
  },
  {
   "cell_type": "code",
   "execution_count": 39,
   "metadata": {},
   "outputs": [],
   "source": [
    "a =df.dropna(subset=\"DIEN_TICH\")[['PHAN_VUNG', 'PROVINCE','DIEN_TICH','DAN_SO']]"
   ]
  },
  {
   "cell_type": "code",
   "execution_count": 42,
   "metadata": {},
   "outputs": [
    {
     "data": {
      "text/html": [
       "<div>\n",
       "<style scoped>\n",
       "    .dataframe tbody tr th:only-of-type {\n",
       "        vertical-align: middle;\n",
       "    }\n",
       "\n",
       "    .dataframe tbody tr th {\n",
       "        vertical-align: top;\n",
       "    }\n",
       "\n",
       "    .dataframe thead th {\n",
       "        text-align: right;\n",
       "    }\n",
       "</style>\n",
       "<table border=\"1\" class=\"dataframe\">\n",
       "  <thead>\n",
       "    <tr style=\"text-align: right;\">\n",
       "      <th></th>\n",
       "      <th>SHOP_WID</th>\n",
       "      <th>SHOP_TYPE</th>\n",
       "      <th>SHOP_CODE</th>\n",
       "      <th>SHOP_NM</th>\n",
       "      <th>PHAN_VUNG</th>\n",
       "      <th>OPEN_DT</th>\n",
       "      <th>ADDRESS</th>\n",
       "      <th>WARD</th>\n",
       "      <th>DISTRICT</th>\n",
       "      <th>PROVINCE</th>\n",
       "      <th>...</th>\n",
       "      <th>DIEM_MAT_BANG</th>\n",
       "      <th>XEP_HANG_MAT_BANG</th>\n",
       "      <th>CLOSE_DT</th>\n",
       "      <th>FLAG</th>\n",
       "      <th>CHU_THICH</th>\n",
       "      <th>DIEN_TICH</th>\n",
       "      <th>MAT_DO_DAN_SO</th>\n",
       "      <th>SO_DVHC_CAP_XA</th>\n",
       "      <th>DAN_SO</th>\n",
       "      <th>TEN_DON_VI_HANH_CHINH</th>\n",
       "    </tr>\n",
       "  </thead>\n",
       "  <tbody>\n",
       "    <tr>\n",
       "      <th>125</th>\n",
       "      <td>2776.0</td>\n",
       "      <td>F88</td>\n",
       "      <td>1054</td>\n",
       "      <td>HNI20052.01 Khu 7, Ngã tư Trạm Trôi</td>\n",
       "      <td>NaN</td>\n",
       "      <td>NaN</td>\n",
       "      <td>Số 1 Khu 7 Trôi</td>\n",
       "      <td>Thị trấn Trạm Trôi</td>\n",
       "      <td>NaN</td>\n",
       "      <td>Hà Nội</td>\n",
       "      <td>...</td>\n",
       "      <td>NaN</td>\n",
       "      <td>NaN</td>\n",
       "      <td>NaN</td>\n",
       "      <td>NaN</td>\n",
       "      <td>NaN</td>\n",
       "      <td>NaN</td>\n",
       "      <td>NaN</td>\n",
       "      <td>NaN</td>\n",
       "      <td>NaN</td>\n",
       "      <td>NaN</td>\n",
       "    </tr>\n",
       "    <tr>\n",
       "      <th>170</th>\n",
       "      <td>2807.0</td>\n",
       "      <td>F88</td>\n",
       "      <td>1</td>\n",
       "      <td>HNI15065.F88 Đặng Dung</td>\n",
       "      <td>NaN</td>\n",
       "      <td>NaN</td>\n",
       "      <td>Số 11, Đặng Dung, Q. Ba Đình, Hà Nội</td>\n",
       "      <td>NaN</td>\n",
       "      <td>NaN</td>\n",
       "      <td>NaN</td>\n",
       "      <td>...</td>\n",
       "      <td>NaN</td>\n",
       "      <td>NaN</td>\n",
       "      <td>NaN</td>\n",
       "      <td>NaN</td>\n",
       "      <td>NaN</td>\n",
       "      <td>NaN</td>\n",
       "      <td>NaN</td>\n",
       "      <td>NaN</td>\n",
       "      <td>NaN</td>\n",
       "      <td>NaN</td>\n",
       "    </tr>\n",
       "    <tr>\n",
       "      <th>171</th>\n",
       "      <td>2808.0</td>\n",
       "      <td>F88</td>\n",
       "      <td>3</td>\n",
       "      <td>HNI15066.F88 Đường Láng (F88 662 Đường Láng)</td>\n",
       "      <td>NaN</td>\n",
       "      <td>NaN</td>\n",
       "      <td>Số 662, Đường Láng, Q. Đống Đa, Hà Nội</td>\n",
       "      <td>NaN</td>\n",
       "      <td>NaN</td>\n",
       "      <td>NaN</td>\n",
       "      <td>...</td>\n",
       "      <td>NaN</td>\n",
       "      <td>NaN</td>\n",
       "      <td>NaN</td>\n",
       "      <td>NaN</td>\n",
       "      <td>NaN</td>\n",
       "      <td>NaN</td>\n",
       "      <td>NaN</td>\n",
       "      <td>NaN</td>\n",
       "      <td>NaN</td>\n",
       "      <td>NaN</td>\n",
       "    </tr>\n",
       "    <tr>\n",
       "      <th>172</th>\n",
       "      <td>2809.0</td>\n",
       "      <td>F88</td>\n",
       "      <td>HNDLT</td>\n",
       "      <td>F88 Đê La Thành Cũ</td>\n",
       "      <td>NaN</td>\n",
       "      <td>NaN</td>\n",
       "      <td>Số 321, Đê La Thành, Q. Đống Đa, Hà Nội</td>\n",
       "      <td>NaN</td>\n",
       "      <td>NaN</td>\n",
       "      <td>NaN</td>\n",
       "      <td>...</td>\n",
       "      <td>NaN</td>\n",
       "      <td>NaN</td>\n",
       "      <td>NaN</td>\n",
       "      <td>NaN</td>\n",
       "      <td>NaN</td>\n",
       "      <td>NaN</td>\n",
       "      <td>NaN</td>\n",
       "      <td>NaN</td>\n",
       "      <td>NaN</td>\n",
       "      <td>NaN</td>\n",
       "    </tr>\n",
       "    <tr>\n",
       "      <th>173</th>\n",
       "      <td>2810.0</td>\n",
       "      <td>F88</td>\n",
       "      <td>4</td>\n",
       "      <td>HNI15069.F88 Nguyễn Trãi</td>\n",
       "      <td>NaN</td>\n",
       "      <td>NaN</td>\n",
       "      <td>Số 428, Nguyễn Trãi, Quận Thanh Xuân, Hà Nội</td>\n",
       "      <td>NaN</td>\n",
       "      <td>NaN</td>\n",
       "      <td>NaN</td>\n",
       "      <td>...</td>\n",
       "      <td>NaN</td>\n",
       "      <td>NaN</td>\n",
       "      <td>NaN</td>\n",
       "      <td>NaN</td>\n",
       "      <td>NaN</td>\n",
       "      <td>NaN</td>\n",
       "      <td>NaN</td>\n",
       "      <td>NaN</td>\n",
       "      <td>NaN</td>\n",
       "      <td>NaN</td>\n",
       "    </tr>\n",
       "    <tr>\n",
       "      <th>...</th>\n",
       "      <td>...</td>\n",
       "      <td>...</td>\n",
       "      <td>...</td>\n",
       "      <td>...</td>\n",
       "      <td>...</td>\n",
       "      <td>...</td>\n",
       "      <td>...</td>\n",
       "      <td>...</td>\n",
       "      <td>...</td>\n",
       "      <td>...</td>\n",
       "      <td>...</td>\n",
       "      <td>...</td>\n",
       "      <td>...</td>\n",
       "      <td>...</td>\n",
       "      <td>...</td>\n",
       "      <td>...</td>\n",
       "      <td>...</td>\n",
       "      <td>...</td>\n",
       "      <td>...</td>\n",
       "      <td>...</td>\n",
       "      <td>...</td>\n",
       "    </tr>\n",
       "    <tr>\n",
       "      <th>1569</th>\n",
       "      <td>7677.0</td>\n",
       "      <td>F88</td>\n",
       "      <td>2209</td>\n",
       "      <td>SGN22432.142B Nguyễn Văn Khạ</td>\n",
       "      <td>NaN</td>\n",
       "      <td>NaN</td>\n",
       "      <td>142B Nguyễn Văn Khạ , TT. Củ Chi , H. Củ Chi ,...</td>\n",
       "      <td>Thị trấn Củ Chi</td>\n",
       "      <td>NaN</td>\n",
       "      <td>Hồ Chí Minh</td>\n",
       "      <td>...</td>\n",
       "      <td>NaN</td>\n",
       "      <td>NaN</td>\n",
       "      <td>NaN</td>\n",
       "      <td>NaN</td>\n",
       "      <td>NaN</td>\n",
       "      <td>NaN</td>\n",
       "      <td>NaN</td>\n",
       "      <td>NaN</td>\n",
       "      <td>NaN</td>\n",
       "      <td>NaN</td>\n",
       "    </tr>\n",
       "    <tr>\n",
       "      <th>1570</th>\n",
       "      <td>7678.0</td>\n",
       "      <td>F88</td>\n",
       "      <td>4522</td>\n",
       "      <td>QNH22405.02 Trần Khánh Dư</td>\n",
       "      <td>NaN</td>\n",
       "      <td>NaN</td>\n",
       "      <td>2 Trần Khánh Dư , P. Quảng Yên , TX. Quảng Yên...</td>\n",
       "      <td>Phường Quảng Yên</td>\n",
       "      <td>NaN</td>\n",
       "      <td>Quảng Ninh</td>\n",
       "      <td>...</td>\n",
       "      <td>NaN</td>\n",
       "      <td>NaN</td>\n",
       "      <td>NaN</td>\n",
       "      <td>NaN</td>\n",
       "      <td>NaN</td>\n",
       "      <td>NaN</td>\n",
       "      <td>NaN</td>\n",
       "      <td>NaN</td>\n",
       "      <td>NaN</td>\n",
       "      <td>NaN</td>\n",
       "    </tr>\n",
       "    <tr>\n",
       "      <th>1575</th>\n",
       "      <td>21795.0</td>\n",
       "      <td>F88</td>\n",
       "      <td>2269</td>\n",
       "      <td>SGN22901. Telesale04. Số 07 Lê Hoàng Phái</td>\n",
       "      <td>NaN</td>\n",
       "      <td>NaN</td>\n",
       "      <td>Số 07 Lê Hoàng Phái, phường 17, quận Gò Vấp, T...</td>\n",
       "      <td>Phường 17</td>\n",
       "      <td>NaN</td>\n",
       "      <td>Hồ Chí Minh</td>\n",
       "      <td>...</td>\n",
       "      <td>NaN</td>\n",
       "      <td>NaN</td>\n",
       "      <td>NaN</td>\n",
       "      <td>NaN</td>\n",
       "      <td>NaN</td>\n",
       "      <td>NaN</td>\n",
       "      <td>NaN</td>\n",
       "      <td>NaN</td>\n",
       "      <td>NaN</td>\n",
       "      <td>NaN</td>\n",
       "    </tr>\n",
       "    <tr>\n",
       "      <th>1586</th>\n",
       "      <td>21955.0</td>\n",
       "      <td>F88</td>\n",
       "      <td>1240</td>\n",
       "      <td>HNI22902. Telesale06. Số 597 Nguyễn Trãi</td>\n",
       "      <td>NaN</td>\n",
       "      <td>NaN</td>\n",
       "      <td>Số 597 Nguyễn Trãi, phường Thanh Xuân Nam, quậ...</td>\n",
       "      <td>Phường Thanh Xuân Nam</td>\n",
       "      <td>NaN</td>\n",
       "      <td>Hà Nội</td>\n",
       "      <td>...</td>\n",
       "      <td>NaN</td>\n",
       "      <td>NaN</td>\n",
       "      <td>NaN</td>\n",
       "      <td>NaN</td>\n",
       "      <td>NaN</td>\n",
       "      <td>NaN</td>\n",
       "      <td>NaN</td>\n",
       "      <td>NaN</td>\n",
       "      <td>NaN</td>\n",
       "      <td>NaN</td>\n",
       "    </tr>\n",
       "    <tr>\n",
       "      <th>1632</th>\n",
       "      <td>NaN</td>\n",
       "      <td>NaN</td>\n",
       "      <td>NaN</td>\n",
       "      <td>NaN</td>\n",
       "      <td>NaN</td>\n",
       "      <td>NaN</td>\n",
       "      <td>NaN</td>\n",
       "      <td>NaN</td>\n",
       "      <td>NaN</td>\n",
       "      <td>NaN</td>\n",
       "      <td>...</td>\n",
       "      <td>NaN</td>\n",
       "      <td>NaN</td>\n",
       "      <td>NaN</td>\n",
       "      <td>NaN</td>\n",
       "      <td>NaN</td>\n",
       "      <td>NaN</td>\n",
       "      <td>NaN</td>\n",
       "      <td>NaN</td>\n",
       "      <td>NaN</td>\n",
       "      <td>NaN</td>\n",
       "    </tr>\n",
       "  </tbody>\n",
       "</table>\n",
       "<p>723 rows × 28 columns</p>\n",
       "</div>"
      ],
      "text/plain": [
       "      SHOP_WID SHOP_TYPE SHOP_CODE  \\\n",
       "125     2776.0       F88      1054   \n",
       "170     2807.0       F88         1   \n",
       "171     2808.0       F88         3   \n",
       "172     2809.0       F88     HNDLT   \n",
       "173     2810.0       F88         4   \n",
       "...        ...       ...       ...   \n",
       "1569    7677.0       F88      2209   \n",
       "1570    7678.0       F88      4522   \n",
       "1575   21795.0       F88      2269   \n",
       "1586   21955.0       F88      1240   \n",
       "1632       NaN       NaN       NaN   \n",
       "\n",
       "                                           SHOP_NM PHAN_VUNG OPEN_DT  \\\n",
       "125            HNI20052.01 Khu 7, Ngã tư Trạm Trôi       NaN     NaN   \n",
       "170                         HNI15065.F88 Đặng Dung       NaN     NaN   \n",
       "171   HNI15066.F88 Đường Láng (F88 662 Đường Láng)       NaN     NaN   \n",
       "172                             F88 Đê La Thành Cũ       NaN     NaN   \n",
       "173                       HNI15069.F88 Nguyễn Trãi       NaN     NaN   \n",
       "...                                            ...       ...     ...   \n",
       "1569                  SGN22432.142B Nguyễn Văn Khạ       NaN     NaN   \n",
       "1570                     QNH22405.02 Trần Khánh Dư       NaN     NaN   \n",
       "1575  SGN22901. Telesale04. Số 07 Lê Hoàng Phái       NaN     NaN   \n",
       "1586   HNI22902. Telesale06. Số 597 Nguyễn Trãi       NaN     NaN   \n",
       "1632                                           NaN       NaN     NaN   \n",
       "\n",
       "                                                ADDRESS  \\\n",
       "125                                    Số 1 Khu 7 Trôi    \n",
       "170                Số 11, Đặng Dung, Q. Ba Đình, Hà Nội   \n",
       "171              Số 662, Đường Láng, Q. Đống Đa, Hà Nội   \n",
       "172             Số 321, Đê La Thành, Q. Đống Đa, Hà Nội   \n",
       "173        Số 428, Nguyễn Trãi, Quận Thanh Xuân, Hà Nội   \n",
       "...                                                 ...   \n",
       "1569  142B Nguyễn Văn Khạ , TT. Củ Chi , H. Củ Chi ,...   \n",
       "1570  2 Trần Khánh Dư , P. Quảng Yên , TX. Quảng Yên...   \n",
       "1575  Số 07 Lê Hoàng Phái, phường 17, quận Gò Vấp, T...   \n",
       "1586  Số 597 Nguyễn Trãi, phường Thanh Xuân Nam, quậ...   \n",
       "1632                                                NaN   \n",
       "\n",
       "                       WARD DISTRICT     PROVINCE  ...  DIEM_MAT_BANG  \\\n",
       "125      Thị trấn Trạm Trôi      NaN       Hà Nội  ...            NaN   \n",
       "170                     NaN      NaN          NaN  ...            NaN   \n",
       "171                     NaN      NaN          NaN  ...            NaN   \n",
       "172                     NaN      NaN          NaN  ...            NaN   \n",
       "173                     NaN      NaN          NaN  ...            NaN   \n",
       "...                     ...      ...          ...  ...            ...   \n",
       "1569        Thị trấn Củ Chi      NaN  Hồ Chí Minh  ...            NaN   \n",
       "1570       Phường Quảng Yên      NaN   Quảng Ninh  ...            NaN   \n",
       "1575              Phường 17      NaN  Hồ Chí Minh  ...            NaN   \n",
       "1586  Phường Thanh Xuân Nam      NaN       Hà Nội  ...            NaN   \n",
       "1632                    NaN      NaN          NaN  ...            NaN   \n",
       "\n",
       "     XEP_HANG_MAT_BANG CLOSE_DT FLAG CHU_THICH  DIEN_TICH  MAT_DO_DAN_SO  \\\n",
       "125                NaN      NaN  NaN       NaN        NaN            NaN   \n",
       "170                NaN      NaN  NaN       NaN        NaN            NaN   \n",
       "171                NaN      NaN  NaN       NaN        NaN            NaN   \n",
       "172                NaN      NaN  NaN       NaN        NaN            NaN   \n",
       "173                NaN      NaN  NaN       NaN        NaN            NaN   \n",
       "...                ...      ...  ...       ...        ...            ...   \n",
       "1569               NaN      NaN  NaN       NaN        NaN            NaN   \n",
       "1570               NaN      NaN  NaN       NaN        NaN            NaN   \n",
       "1575               NaN      NaN  NaN       NaN        NaN            NaN   \n",
       "1586               NaN      NaN  NaN       NaN        NaN            NaN   \n",
       "1632               NaN      NaN  NaN       NaN        NaN            NaN   \n",
       "\n",
       "     SO_DVHC_CAP_XA  DAN_SO TEN_DON_VI_HANH_CHINH  \n",
       "125             NaN     NaN                   NaN  \n",
       "170             NaN     NaN                   NaN  \n",
       "171             NaN     NaN                   NaN  \n",
       "172             NaN     NaN                   NaN  \n",
       "173             NaN     NaN                   NaN  \n",
       "...             ...     ...                   ...  \n",
       "1569            NaN     NaN                   NaN  \n",
       "1570            NaN     NaN                   NaN  \n",
       "1575            NaN     NaN                   NaN  \n",
       "1586            NaN     NaN                   NaN  \n",
       "1632            NaN     NaN                   NaN  \n",
       "\n",
       "[723 rows x 28 columns]"
      ]
     },
     "execution_count": 42,
     "metadata": {},
     "output_type": "execute_result"
    }
   ],
   "source": [
    "df[df.LATITUDE.isnull()]"
   ]
  },
  {
   "cell_type": "code",
   "execution_count": 43,
   "metadata": {},
   "outputs": [
    {
     "data": {
      "text/html": [
       "<div>\n",
       "<style scoped>\n",
       "    .dataframe tbody tr th:only-of-type {\n",
       "        vertical-align: middle;\n",
       "    }\n",
       "\n",
       "    .dataframe tbody tr th {\n",
       "        vertical-align: top;\n",
       "    }\n",
       "\n",
       "    .dataframe thead th {\n",
       "        text-align: right;\n",
       "    }\n",
       "</style>\n",
       "<table border=\"1\" class=\"dataframe\">\n",
       "  <thead>\n",
       "    <tr style=\"text-align: right;\">\n",
       "      <th></th>\n",
       "      <th>SHOP_WID</th>\n",
       "      <th>SHOP_TYPE</th>\n",
       "      <th>SHOP_CODE</th>\n",
       "      <th>SHOP_NM</th>\n",
       "      <th>PHAN_VUNG</th>\n",
       "      <th>OPEN_DT</th>\n",
       "      <th>ADDRESS</th>\n",
       "      <th>WARD</th>\n",
       "      <th>DISTRICT</th>\n",
       "      <th>PROVINCE</th>\n",
       "      <th>...</th>\n",
       "      <th>DIEM_MAT_BANG</th>\n",
       "      <th>XEP_HANG_MAT_BANG</th>\n",
       "      <th>CLOSE_DT</th>\n",
       "      <th>FLAG</th>\n",
       "      <th>CHU_THICH</th>\n",
       "      <th>DIEN_TICH</th>\n",
       "      <th>MAT_DO_DAN_SO</th>\n",
       "      <th>SO_DVHC_CAP_XA</th>\n",
       "      <th>DAN_SO</th>\n",
       "      <th>TEN_DON_VI_HANH_CHINH</th>\n",
       "    </tr>\n",
       "  </thead>\n",
       "  <tbody>\n",
       "    <tr>\n",
       "      <th>125</th>\n",
       "      <td>2776.0</td>\n",
       "      <td>F88</td>\n",
       "      <td>1054</td>\n",
       "      <td>HNI20052.01 Khu 7, Ngã tư Trạm Trôi</td>\n",
       "      <td>NaN</td>\n",
       "      <td>NaN</td>\n",
       "      <td>Số 1 Khu 7 Trôi</td>\n",
       "      <td>Thị trấn Trạm Trôi</td>\n",
       "      <td>NaN</td>\n",
       "      <td>Hà Nội</td>\n",
       "      <td>...</td>\n",
       "      <td>NaN</td>\n",
       "      <td>NaN</td>\n",
       "      <td>NaN</td>\n",
       "      <td>NaN</td>\n",
       "      <td>NaN</td>\n",
       "      <td>NaN</td>\n",
       "      <td>NaN</td>\n",
       "      <td>NaN</td>\n",
       "      <td>NaN</td>\n",
       "      <td>NaN</td>\n",
       "    </tr>\n",
       "  </tbody>\n",
       "</table>\n",
       "<p>1 rows × 28 columns</p>\n",
       "</div>"
      ],
      "text/plain": [
       "     SHOP_WID SHOP_TYPE SHOP_CODE                              SHOP_NM  \\\n",
       "125    2776.0       F88      1054  HNI20052.01 Khu 7, Ngã tư Trạm Trôi   \n",
       "\n",
       "    PHAN_VUNG OPEN_DT           ADDRESS                WARD DISTRICT PROVINCE  \\\n",
       "125       NaN     NaN  Số 1 Khu 7 Trôi   Thị trấn Trạm Trôi      NaN   Hà Nội   \n",
       "\n",
       "     ...  DIEM_MAT_BANG XEP_HANG_MAT_BANG CLOSE_DT FLAG CHU_THICH  DIEN_TICH  \\\n",
       "125  ...            NaN               NaN      NaN  NaN       NaN        NaN   \n",
       "\n",
       "     MAT_DO_DAN_SO SO_DVHC_CAP_XA  DAN_SO TEN_DON_VI_HANH_CHINH  \n",
       "125            NaN            NaN     NaN                   NaN  \n",
       "\n",
       "[1 rows x 28 columns]"
      ]
     },
     "execution_count": 43,
     "metadata": {},
     "output_type": "execute_result"
    }
   ],
   "source": [
    "df[df.SHOP_WID==2776.0]"
   ]
  },
  {
   "cell_type": "code",
   "execution_count": 31,
   "metadata": {},
   "outputs": [
    {
     "data": {
      "text/plain": [
       "1097   NaN\n",
       "1125   NaN\n",
       "1195   NaN\n",
       "1210   NaN\n",
       "1418   NaN\n",
       "Name: DIEN_TICH, dtype: float64"
      ]
     },
     "execution_count": 31,
     "metadata": {},
     "output_type": "execute_result"
    }
   ],
   "source": [
    "df[df.PROVINCE=='Hoà Bình']['DIEN_TICH']"
   ]
  },
  {
   "cell_type": "code",
   "execution_count": 44,
   "metadata": {},
   "outputs": [
    {
     "data": {
      "text/html": [
       "<div>\n",
       "<style scoped>\n",
       "    .dataframe tbody tr th:only-of-type {\n",
       "        vertical-align: middle;\n",
       "    }\n",
       "\n",
       "    .dataframe tbody tr th {\n",
       "        vertical-align: top;\n",
       "    }\n",
       "\n",
       "    .dataframe thead th {\n",
       "        text-align: right;\n",
       "    }\n",
       "</style>\n",
       "<table border=\"1\" class=\"dataframe\">\n",
       "  <thead>\n",
       "    <tr style=\"text-align: right;\">\n",
       "      <th></th>\n",
       "      <th>SHOP_WID</th>\n",
       "      <th>SHOP_TYPE</th>\n",
       "      <th>SHOP_CODE</th>\n",
       "      <th>SHOP_NM</th>\n",
       "      <th>PHAN_VUNG</th>\n",
       "      <th>OPEN_DT</th>\n",
       "      <th>ADDRESS</th>\n",
       "      <th>WARD</th>\n",
       "      <th>DISTRICT</th>\n",
       "      <th>PROVINCE</th>\n",
       "      <th>...</th>\n",
       "      <th>DIEM_MAT_BANG</th>\n",
       "      <th>XEP_HANG_MAT_BANG</th>\n",
       "      <th>CLOSE_DT</th>\n",
       "      <th>FLAG</th>\n",
       "      <th>CHU_THICH</th>\n",
       "      <th>DIEN_TICH</th>\n",
       "      <th>MAT_DO_DAN_SO</th>\n",
       "      <th>SO_DVHC_CAP_XA</th>\n",
       "      <th>DAN_SO</th>\n",
       "      <th>TEN_DON_VI_HANH_CHINH</th>\n",
       "    </tr>\n",
       "  </thead>\n",
       "  <tbody>\n",
       "    <tr>\n",
       "      <th>0</th>\n",
       "      <td>2659.0</td>\n",
       "      <td>F88</td>\n",
       "      <td>4410</td>\n",
       "      <td>BGG21011.66 Cầu Vồng</td>\n",
       "      <td>Đông Bắc Bộ 2</td>\n",
       "      <td>2021-09-01</td>\n",
       "      <td>66 Cầu Vồng</td>\n",
       "      <td>TT. Cao Thượng</td>\n",
       "      <td>Tân Yên</td>\n",
       "      <td>Bắc Giang</td>\n",
       "      <td>...</td>\n",
       "      <td>5.0</td>\n",
       "      <td>B</td>\n",
       "      <td>NaN</td>\n",
       "      <td>Active</td>\n",
       "      <td>NaN</td>\n",
       "      <td>208.3</td>\n",
       "      <td>851.0</td>\n",
       "      <td>22.0</td>\n",
       "      <td>177265.0</td>\n",
       "      <td>Tân Yên</td>\n",
       "    </tr>\n",
       "    <tr>\n",
       "      <th>1</th>\n",
       "      <td>2660.0</td>\n",
       "      <td>F88</td>\n",
       "      <td>4505</td>\n",
       "      <td>QNH20005.369 Trần Phú</td>\n",
       "      <td>Đông Bắc Bộ 1</td>\n",
       "      <td>2020-08-15</td>\n",
       "      <td>369 Trần Phú</td>\n",
       "      <td>P. Cẩm Thành</td>\n",
       "      <td>Cẩm Phả</td>\n",
       "      <td>Quảng Ninh</td>\n",
       "      <td>...</td>\n",
       "      <td>5.0</td>\n",
       "      <td>B</td>\n",
       "      <td>NaN</td>\n",
       "      <td>Active</td>\n",
       "      <td>thành phố</td>\n",
       "      <td>386.5</td>\n",
       "      <td>492.0</td>\n",
       "      <td>16.0</td>\n",
       "      <td>190232.0</td>\n",
       "      <td>Cẩm Phả</td>\n",
       "    </tr>\n",
       "    <tr>\n",
       "      <th>2</th>\n",
       "      <td>2661.0</td>\n",
       "      <td>F88</td>\n",
       "      <td>4506</td>\n",
       "      <td>QNH20006.1A Phan Bội Châu</td>\n",
       "      <td>Đông Bắc Bộ 1</td>\n",
       "      <td>2020-08-15</td>\n",
       "      <td>1A Phan Bội Châu</td>\n",
       "      <td>P. Quang Trung</td>\n",
       "      <td>Uông Bí</td>\n",
       "      <td>Quảng Ninh</td>\n",
       "      <td>...</td>\n",
       "      <td>7.0</td>\n",
       "      <td>A</td>\n",
       "      <td>NaN</td>\n",
       "      <td>Active</td>\n",
       "      <td>thành phố</td>\n",
       "      <td>255.5</td>\n",
       "      <td>474.0</td>\n",
       "      <td>10.0</td>\n",
       "      <td>120982.0</td>\n",
       "      <td>Uông Bí</td>\n",
       "    </tr>\n",
       "    <tr>\n",
       "      <th>3</th>\n",
       "      <td>2662.0</td>\n",
       "      <td>F88</td>\n",
       "      <td>5205</td>\n",
       "      <td>BNH20005.128 Đường Minh Khai</td>\n",
       "      <td>Đông Bắc Bộ 2</td>\n",
       "      <td>2020-08-15</td>\n",
       "      <td>128 Đường Minh Khai</td>\n",
       "      <td>P. Đông Ngàn</td>\n",
       "      <td>Từ Sơn</td>\n",
       "      <td>Bắc Ninh</td>\n",
       "      <td>...</td>\n",
       "      <td>6.0</td>\n",
       "      <td>B</td>\n",
       "      <td>NaN</td>\n",
       "      <td>Active</td>\n",
       "      <td>thành phố</td>\n",
       "      <td>61.1</td>\n",
       "      <td>2887.0</td>\n",
       "      <td>12.0</td>\n",
       "      <td>176410.0</td>\n",
       "      <td>Từ Sơn</td>\n",
       "    </tr>\n",
       "    <tr>\n",
       "      <th>4</th>\n",
       "      <td>2663.0</td>\n",
       "      <td>F88</td>\n",
       "      <td>8003</td>\n",
       "      <td>TNH20003.ĐT6 Thị Trấn Trảng Bàng</td>\n",
       "      <td>Hồ Chí Minh 1</td>\n",
       "      <td>2020-08-15</td>\n",
       "      <td>ĐT6 TT Trảng Bàng</td>\n",
       "      <td>TT. Trảng Bàng</td>\n",
       "      <td>Trảng Bàng</td>\n",
       "      <td>Tây Ninh</td>\n",
       "      <td>...</td>\n",
       "      <td>7.0</td>\n",
       "      <td>B</td>\n",
       "      <td>NaN</td>\n",
       "      <td>Active</td>\n",
       "      <td>thị xã</td>\n",
       "      <td>340.1</td>\n",
       "      <td>476.0</td>\n",
       "      <td>10.0</td>\n",
       "      <td>161831.0</td>\n",
       "      <td>Trảng Bàng</td>\n",
       "    </tr>\n",
       "    <tr>\n",
       "      <th>...</th>\n",
       "      <td>...</td>\n",
       "      <td>...</td>\n",
       "      <td>...</td>\n",
       "      <td>...</td>\n",
       "      <td>...</td>\n",
       "      <td>...</td>\n",
       "      <td>...</td>\n",
       "      <td>...</td>\n",
       "      <td>...</td>\n",
       "      <td>...</td>\n",
       "      <td>...</td>\n",
       "      <td>...</td>\n",
       "      <td>...</td>\n",
       "      <td>...</td>\n",
       "      <td>...</td>\n",
       "      <td>...</td>\n",
       "      <td>...</td>\n",
       "      <td>...</td>\n",
       "      <td>...</td>\n",
       "      <td>...</td>\n",
       "      <td>...</td>\n",
       "    </tr>\n",
       "    <tr>\n",
       "      <th>1628</th>\n",
       "      <td>22316.0</td>\n",
       "      <td>F88</td>\n",
       "      <td>5241</td>\n",
       "      <td>BNH23020.Ấp Đồn</td>\n",
       "      <td>Đông Bắc Bộ 2</td>\n",
       "      <td>2023-02-26</td>\n",
       "      <td>Ấp Đồn</td>\n",
       "      <td>X. Yên Trung</td>\n",
       "      <td>Yên Phong</td>\n",
       "      <td>Bắc Ninh</td>\n",
       "      <td>...</td>\n",
       "      <td>5.0</td>\n",
       "      <td>B</td>\n",
       "      <td>NaN</td>\n",
       "      <td>Active</td>\n",
       "      <td>NaN</td>\n",
       "      <td>96.9</td>\n",
       "      <td>1988.0</td>\n",
       "      <td>14.0</td>\n",
       "      <td>192674.0</td>\n",
       "      <td>Yên Phong</td>\n",
       "    </tr>\n",
       "    <tr>\n",
       "      <th>1629</th>\n",
       "      <td>22317.0</td>\n",
       "      <td>F88</td>\n",
       "      <td>4613</td>\n",
       "      <td>TBH23009.599 Lý Bôn</td>\n",
       "      <td>Đông Bắc Bộ 1</td>\n",
       "      <td>2023-02-27</td>\n",
       "      <td>599 Lý Bôn</td>\n",
       "      <td>P. Trần Lãm</td>\n",
       "      <td>Thái Bình</td>\n",
       "      <td>Thái Bình</td>\n",
       "      <td>...</td>\n",
       "      <td>7.0</td>\n",
       "      <td>A</td>\n",
       "      <td>NaN</td>\n",
       "      <td>Active</td>\n",
       "      <td>thành phố</td>\n",
       "      <td>68.1</td>\n",
       "      <td>3026.0</td>\n",
       "      <td>19.0</td>\n",
       "      <td>206037.0</td>\n",
       "      <td>Thái Bình</td>\n",
       "    </tr>\n",
       "    <tr>\n",
       "      <th>1630</th>\n",
       "      <td>22318.0</td>\n",
       "      <td>F88</td>\n",
       "      <td>2276</td>\n",
       "      <td>SGN23107.1A Nguyễn Bình</td>\n",
       "      <td>Hồ Chí Minh 2</td>\n",
       "      <td>2023-02-27</td>\n",
       "      <td>1A Nguyễn Bình</td>\n",
       "      <td>X. Phú Xuân</td>\n",
       "      <td>Nhà Bè</td>\n",
       "      <td>Hồ Chí Minh</td>\n",
       "      <td>...</td>\n",
       "      <td>7.0</td>\n",
       "      <td>A</td>\n",
       "      <td>NaN</td>\n",
       "      <td>Active</td>\n",
       "      <td>NaN</td>\n",
       "      <td>NaN</td>\n",
       "      <td>NaN</td>\n",
       "      <td>NaN</td>\n",
       "      <td>NaN</td>\n",
       "      <td>NaN</td>\n",
       "    </tr>\n",
       "    <tr>\n",
       "      <th>1631</th>\n",
       "      <td>22455.0</td>\n",
       "      <td>F88</td>\n",
       "      <td>5828</td>\n",
       "      <td>HTH23011.Ngã tư Thạch Châu</td>\n",
       "      <td>Bắc Trung Bộ</td>\n",
       "      <td>2023-06-10</td>\n",
       "      <td>Xã Thạch Châu</td>\n",
       "      <td>X. Thạch Châu</td>\n",
       "      <td>Lộc Hà</td>\n",
       "      <td>Hà Tĩnh</td>\n",
       "      <td>...</td>\n",
       "      <td>7.0</td>\n",
       "      <td>B</td>\n",
       "      <td>NaN</td>\n",
       "      <td>Active</td>\n",
       "      <td>NaN</td>\n",
       "      <td>117.4</td>\n",
       "      <td>674.0</td>\n",
       "      <td>12.0</td>\n",
       "      <td>79178.0</td>\n",
       "      <td>Lộc Hà</td>\n",
       "    </tr>\n",
       "    <tr>\n",
       "      <th>1632</th>\n",
       "      <td>NaN</td>\n",
       "      <td>NaN</td>\n",
       "      <td>NaN</td>\n",
       "      <td>NaN</td>\n",
       "      <td>NaN</td>\n",
       "      <td>NaN</td>\n",
       "      <td>NaN</td>\n",
       "      <td>NaN</td>\n",
       "      <td>NaN</td>\n",
       "      <td>NaN</td>\n",
       "      <td>...</td>\n",
       "      <td>NaN</td>\n",
       "      <td>NaN</td>\n",
       "      <td>NaN</td>\n",
       "      <td>NaN</td>\n",
       "      <td>NaN</td>\n",
       "      <td>NaN</td>\n",
       "      <td>NaN</td>\n",
       "      <td>NaN</td>\n",
       "      <td>NaN</td>\n",
       "      <td>NaN</td>\n",
       "    </tr>\n",
       "  </tbody>\n",
       "</table>\n",
       "<p>1633 rows × 28 columns</p>\n",
       "</div>"
      ],
      "text/plain": [
       "      SHOP_WID SHOP_TYPE SHOP_CODE                           SHOP_NM  \\\n",
       "0       2659.0       F88      4410              BGG21011.66 Cầu Vồng   \n",
       "1       2660.0       F88      4505             QNH20005.369 Trần Phú   \n",
       "2       2661.0       F88      4506         QNH20006.1A Phan Bội Châu   \n",
       "3       2662.0       F88      5205      BNH20005.128 Đường Minh Khai   \n",
       "4       2663.0       F88      8003  TNH20003.ĐT6 Thị Trấn Trảng Bàng   \n",
       "...        ...       ...       ...                               ...   \n",
       "1628   22316.0       F88      5241                   BNH23020.Ấp Đồn   \n",
       "1629   22317.0       F88      4613               TBH23009.599 Lý Bôn   \n",
       "1630   22318.0       F88      2276           SGN23107.1A Nguyễn Bình   \n",
       "1631   22455.0       F88      5828        HTH23011.Ngã tư Thạch Châu   \n",
       "1632       NaN       NaN       NaN                               NaN   \n",
       "\n",
       "          PHAN_VUNG     OPEN_DT              ADDRESS            WARD  \\\n",
       "0     Đông Bắc Bộ 2  2021-09-01          66 Cầu Vồng  TT. Cao Thượng   \n",
       "1     Đông Bắc Bộ 1  2020-08-15         369 Trần Phú    P. Cẩm Thành   \n",
       "2     Đông Bắc Bộ 1  2020-08-15     1A Phan Bội Châu  P. Quang Trung   \n",
       "3     Đông Bắc Bộ 2  2020-08-15  128 Đường Minh Khai    P. Đông Ngàn   \n",
       "4     Hồ Chí Minh 1  2020-08-15    ĐT6 TT Trảng Bàng  TT. Trảng Bàng   \n",
       "...             ...         ...                  ...             ...   \n",
       "1628  Đông Bắc Bộ 2  2023-02-26               Ấp Đồn    X. Yên Trung   \n",
       "1629  Đông Bắc Bộ 1  2023-02-27           599 Lý Bôn     P. Trần Lãm   \n",
       "1630  Hồ Chí Minh 2  2023-02-27       1A Nguyễn Bình     X. Phú Xuân   \n",
       "1631   Bắc Trung Bộ  2023-06-10        Xã Thạch Châu   X. Thạch Châu   \n",
       "1632            NaN         NaN                  NaN             NaN   \n",
       "\n",
       "        DISTRICT     PROVINCE  ...  DIEM_MAT_BANG XEP_HANG_MAT_BANG CLOSE_DT  \\\n",
       "0        Tân Yên    Bắc Giang  ...            5.0                 B      NaN   \n",
       "1        Cẩm Phả   Quảng Ninh  ...            5.0                 B      NaN   \n",
       "2        Uông Bí   Quảng Ninh  ...            7.0                 A      NaN   \n",
       "3         Từ Sơn     Bắc Ninh  ...            6.0                 B      NaN   \n",
       "4     Trảng Bàng     Tây Ninh  ...            7.0                 B      NaN   \n",
       "...          ...          ...  ...            ...               ...      ...   \n",
       "1628   Yên Phong     Bắc Ninh  ...            5.0                 B      NaN   \n",
       "1629   Thái Bình    Thái Bình  ...            7.0                 A      NaN   \n",
       "1630      Nhà Bè  Hồ Chí Minh  ...            7.0                 A      NaN   \n",
       "1631      Lộc Hà      Hà Tĩnh  ...            7.0                 B      NaN   \n",
       "1632         NaN          NaN  ...            NaN               NaN      NaN   \n",
       "\n",
       "        FLAG  CHU_THICH  DIEN_TICH  MAT_DO_DAN_SO SO_DVHC_CAP_XA    DAN_SO  \\\n",
       "0     Active        NaN      208.3          851.0           22.0  177265.0   \n",
       "1     Active  thành phố      386.5          492.0           16.0  190232.0   \n",
       "2     Active  thành phố      255.5          474.0           10.0  120982.0   \n",
       "3     Active  thành phố       61.1         2887.0           12.0  176410.0   \n",
       "4     Active     thị xã      340.1          476.0           10.0  161831.0   \n",
       "...      ...        ...        ...            ...            ...       ...   \n",
       "1628  Active        NaN       96.9         1988.0           14.0  192674.0   \n",
       "1629  Active  thành phố       68.1         3026.0           19.0  206037.0   \n",
       "1630  Active        NaN        NaN            NaN            NaN       NaN   \n",
       "1631  Active        NaN      117.4          674.0           12.0   79178.0   \n",
       "1632     NaN        NaN        NaN            NaN            NaN       NaN   \n",
       "\n",
       "     TEN_DON_VI_HANH_CHINH  \n",
       "0                  Tân Yên  \n",
       "1                  Cẩm Phả  \n",
       "2                  Uông Bí  \n",
       "3                   Từ Sơn  \n",
       "4               Trảng Bàng  \n",
       "...                    ...  \n",
       "1628             Yên Phong  \n",
       "1629             Thái Bình  \n",
       "1630                   NaN  \n",
       "1631                Lộc Hà  \n",
       "1632                   NaN  \n",
       "\n",
       "[1633 rows x 28 columns]"
      ]
     },
     "execution_count": 44,
     "metadata": {},
     "output_type": "execute_result"
    }
   ],
   "source": [
    "df"
   ]
  },
  {
   "cell_type": "code",
   "execution_count": 45,
   "metadata": {},
   "outputs": [],
   "source": [
    "def divide(a, b):\n",
    "    return a / b"
   ]
  },
  {
   "cell_type": "code",
   "execution_count": 46,
   "metadata": {},
   "outputs": [
    {
     "ename": "ZeroDivisionError",
     "evalue": "division by zero",
     "output_type": "error",
     "traceback": [
      "\u001b[1;31m---------------------------------------------------------------------------\u001b[0m",
      "\u001b[1;31mZeroDivisionError\u001b[0m                         Traceback (most recent call last)",
      "Cell \u001b[1;32mIn[46], line 1\u001b[0m\n\u001b[1;32m----> 1\u001b[0m \u001b[43mdivide\u001b[49m\u001b[43m(\u001b[49m\u001b[38;5;241;43m1\u001b[39;49m\u001b[43m,\u001b[49m\u001b[43m \u001b[49m\u001b[38;5;241;43m0\u001b[39;49m\u001b[43m)\u001b[49m\n",
      "Cell \u001b[1;32mIn[45], line 2\u001b[0m, in \u001b[0;36mdivide\u001b[1;34m(a, b)\u001b[0m\n\u001b[0;32m      1\u001b[0m \u001b[38;5;28;01mdef\u001b[39;00m \u001b[38;5;21mdivide\u001b[39m(a, b):\n\u001b[1;32m----> 2\u001b[0m     \u001b[38;5;28;01mreturn\u001b[39;00m \u001b[43ma\u001b[49m\u001b[43m \u001b[49m\u001b[38;5;241;43m/\u001b[39;49m\u001b[43m \u001b[49m\u001b[43mb\u001b[49m\n",
      "\u001b[1;31mZeroDivisionError\u001b[0m: division by zero"
     ]
    }
   ],
   "source": [
    "divide(1, 0)"
   ]
  },
  {
   "cell_type": "code",
   "execution_count": 47,
   "metadata": {},
   "outputs": [
    {
     "ename": "ZeroDivisionError",
     "evalue": "division by zero",
     "output_type": "error",
     "traceback": [
      "\u001b[1;31m---------------------------------------------------------------------------\u001b[0m",
      "\u001b[1;31mZeroDivisionError\u001b[0m                         Traceback (most recent call last)",
      "Cell \u001b[1;32mIn[47], line 3\u001b[0m\n\u001b[0;32m      1\u001b[0m \u001b[38;5;28;01mimport\u001b[39;00m \u001b[38;5;21;01mpretty_errors\u001b[39;00m\n\u001b[1;32m----> 3\u001b[0m \u001b[43mdivide\u001b[49m\u001b[43m(\u001b[49m\u001b[38;5;241;43m1\u001b[39;49m\u001b[43m,\u001b[49m\u001b[43m \u001b[49m\u001b[38;5;241;43m0\u001b[39;49m\u001b[43m)\u001b[49m\n",
      "Cell \u001b[1;32mIn[45], line 2\u001b[0m, in \u001b[0;36mdivide\u001b[1;34m(a, b)\u001b[0m\n\u001b[0;32m      1\u001b[0m \u001b[38;5;28;01mdef\u001b[39;00m \u001b[38;5;21mdivide\u001b[39m(a, b):\n\u001b[1;32m----> 2\u001b[0m     \u001b[38;5;28;01mreturn\u001b[39;00m \u001b[43ma\u001b[49m\u001b[43m \u001b[49m\u001b[38;5;241;43m/\u001b[39;49m\u001b[43m \u001b[49m\u001b[43mb\u001b[49m\n",
      "\u001b[1;31mZeroDivisionError\u001b[0m: division by zero"
     ]
    }
   ],
   "source": [
    "import pretty_errors\n",
    "\n",
    "divide(1, 0)"
   ]
  },
  {
   "cell_type": "code",
   "execution_count": 48,
   "metadata": {},
   "outputs": [
    {
     "ename": "FileNotFoundError",
     "evalue": "[Errno 2] No such file or directory: 'non_existent_file.txt'",
     "output_type": "error",
     "traceback": [
      "\u001b[1;31m---------------------------------------------------------------------------\u001b[0m",
      "\u001b[1;31mFileNotFoundError\u001b[0m                         Traceback (most recent call last)",
      "Cell \u001b[1;32mIn[48], line 3\u001b[0m\n\u001b[0;32m      1\u001b[0m \u001b[38;5;28;01mimport\u001b[39;00m \u001b[38;5;21;01mpretty_errors\u001b[39;00m\n\u001b[1;32m----> 3\u001b[0m \u001b[38;5;28;43mopen\u001b[39;49m\u001b[43m(\u001b[49m\u001b[38;5;124;43m\"\u001b[39;49m\u001b[38;5;124;43mnon_existent_file.txt\u001b[39;49m\u001b[38;5;124;43m\"\u001b[39;49m\u001b[43m)\u001b[49m\n",
      "File \u001b[1;32m~\\AppData\\Roaming\\Python\\Python310\\site-packages\\IPython\\core\\interactiveshell.py:310\u001b[0m, in \u001b[0;36m_modified_open\u001b[1;34m(file, *args, **kwargs)\u001b[0m\n\u001b[0;32m    303\u001b[0m \u001b[38;5;28;01mif\u001b[39;00m file \u001b[38;5;129;01min\u001b[39;00m {\u001b[38;5;241m0\u001b[39m, \u001b[38;5;241m1\u001b[39m, \u001b[38;5;241m2\u001b[39m}:\n\u001b[0;32m    304\u001b[0m     \u001b[38;5;28;01mraise\u001b[39;00m \u001b[38;5;167;01mValueError\u001b[39;00m(\n\u001b[0;32m    305\u001b[0m         \u001b[38;5;124mf\u001b[39m\u001b[38;5;124m\"\u001b[39m\u001b[38;5;124mIPython won\u001b[39m\u001b[38;5;124m'\u001b[39m\u001b[38;5;124mt let you open fd=\u001b[39m\u001b[38;5;132;01m{\u001b[39;00mfile\u001b[38;5;132;01m}\u001b[39;00m\u001b[38;5;124m by default \u001b[39m\u001b[38;5;124m\"\u001b[39m\n\u001b[0;32m    306\u001b[0m         \u001b[38;5;124m\"\u001b[39m\u001b[38;5;124mas it is likely to crash IPython. If you know what you are doing, \u001b[39m\u001b[38;5;124m\"\u001b[39m\n\u001b[0;32m    307\u001b[0m         \u001b[38;5;124m\"\u001b[39m\u001b[38;5;124myou can use builtins\u001b[39m\u001b[38;5;124m'\u001b[39m\u001b[38;5;124m open.\u001b[39m\u001b[38;5;124m\"\u001b[39m\n\u001b[0;32m    308\u001b[0m     )\n\u001b[1;32m--> 310\u001b[0m \u001b[38;5;28;01mreturn\u001b[39;00m io_open(file, \u001b[38;5;241m*\u001b[39margs, \u001b[38;5;241m*\u001b[39m\u001b[38;5;241m*\u001b[39mkwargs)\n",
      "\u001b[1;31mFileNotFoundError\u001b[0m: [Errno 2] No such file or directory: 'non_existent_file.txt'"
     ]
    }
   ],
   "source": [
    "import pretty_errors\n",
    "\n",
    "open(\"non_existent_file.txt\")"
   ]
  }
 ],
 "metadata": {
  "kernelspec": {
   "display_name": "base",
   "language": "python",
   "name": "python3"
  },
  "language_info": {
   "codemirror_mode": {
    "name": "ipython",
    "version": 3
   },
   "file_extension": ".py",
   "mimetype": "text/x-python",
   "name": "python",
   "nbconvert_exporter": "python",
   "pygments_lexer": "ipython3",
   "version": "3.10.9"
  }
 },
 "nbformat": 4,
 "nbformat_minor": 2
}
